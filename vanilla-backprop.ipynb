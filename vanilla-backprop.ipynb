{
 "cells": [
  {
   "cell_type": "markdown",
   "metadata": {},
   "source": [
    "Here we write a function to perform gradient descent using backpropagation for a neural network with a single hidden layer and an arbitrary number of nodes.\n",
    "We assume the activation function in each layer is the same and the loss function is the following variation of squared error:\n",
    "$$ L(\\mathbf{y}, \\tilde{\\mathbf{y}}) = \\frac{1}{2} \\Vert \\mathbf{y} - \\tilde{\\mathbf{y}} \\Vert^2 ,$$\n",
    "Note that this is the loss of only one sample. The total loss is given by\n",
    "$$ \\frac{1}{n} \\sum_{i=1}^n L(\\mathbf{y}_i, \\tilde{\\mathbf{y}_i}) ,$$\n",
    "where $n$ is the number of samples."
   ]
  },
  {
   "cell_type": "code",
   "execution_count": null,
   "metadata": {},
   "outputs": [],
   "source": [
    "import numpy as np\n",
    "import matplotlib.pyplot as plt"
   ]
  },
  {
   "cell_type": "code",
   "execution_count": null,
   "metadata": {},
   "outputs": [
    {
     "name": "stdout",
     "output_type": "stream",
     "text": [
      "[(0.5976995968311531, 0.6609547685319225, 1), (0.029321747981573387, 0.4677344158515626, 1), (0.2400893827846332, 0.2972874413585408, 1), (0.8066115183245178, 0.8612229954363302, 1), (0.3969629550341518, 0.7016722795067178, 1), (0.8263601513499168, 0.9304959215688829, 1), (0.41275037100029843, 0.3774477434359702, 1), (0.17093092376920038, 0.3727729985532132, 1), (0.17356685864929178, 0.07996250139300876, 1), (0.40942081071909786, 0.7160155267619446, 1), (0.5863613686649145, 0.06248217765120345, 0), (0.9246752988867835, 0.5729423548782724, 0), (0.5631105033974596, 0.16241746637457188, 0), (0.45271672270523244, 0.09697494980860077, 0), (0.8070444596721129, 0.5681277681043985, 0), (0.5729263154498813, 0.1917612371801709, 0), (0.9349021656390322, 0.12767398715146383, 0), (0.7899932300604782, 0.3508912200573031, 0), (0.8602576877717567, 0.10567249821983538, 0), (0.9386594987544427, 0.056685469758344764, 0)]\n",
      "[[0.5976996  0.66095477 1.        ]\n",
      " [0.02932175 0.46773442 1.        ]\n",
      " [0.24008938 0.29728744 1.        ]\n",
      " [0.80661152 0.861223   1.        ]\n",
      " [0.39696296 0.70167228 1.        ]\n",
      " [0.82636015 0.93049592 1.        ]\n",
      " [0.41275037 0.37744774 1.        ]\n",
      " [0.17093092 0.372773   1.        ]\n",
      " [0.17356686 0.0799625  1.        ]\n",
      " [0.40942081 0.71601553 1.        ]\n",
      " [0.58636137 0.06248218 0.        ]\n",
      " [0.9246753  0.57294235 0.        ]\n",
      " [0.5631105  0.16241747 0.        ]\n",
      " [0.45271672 0.09697495 0.        ]\n",
      " [0.80704446 0.56812777 0.        ]\n",
      " [0.57292632 0.19176124 0.        ]\n",
      " [0.93490217 0.12767399 0.        ]\n",
      " [0.78999323 0.35089122 0.        ]\n",
      " [0.86025769 0.1056725  0.        ]\n",
      " [0.9386595  0.05668547 0.        ]]\n"
     ]
    },
    {
     "data": {
      "image/png": "[encoded data removed]",
      "text/plain": [
       "<Figure size 640x480 with 1 Axes>"
      ]
     },
     "metadata": {},
     "output_type": "display_data"
    }
   ],
   "source": [
    "samples_class_1 = []\n",
    "while len(samples_class_1) < 10:\n",
    "    x = np.random.rand()\n",
    "    y = np.random.rand()\n",
    "    if y >= x**2:\n",
    "        samples_class_1.append((x, y, 1))\n",
    "\n",
    "samples_class_0 = []\n",
    "while len(samples_class_0) < 10:\n",
    "    x = np.random.rand()\n",
    "    y = np.random.rand()\n",
    "    if y < x**2:\n",
    "        samples_class_0.append((x, y, 0))\n",
    "\n",
    "samples = samples_class_1 + samples_class_0\n",
    "print(samples)\n",
    "\n",
    "samples_array = np.array(samples)\n",
    "print(samples_array)\n",
    "\n",
    "class_0 = samples_array[samples_array[:, 2] == 0]\n",
    "class_1 = samples_array[samples_array[:, 2] == 1]\n",
    "\n",
    "plt.scatter(class_0[:, 0], class_0[:, 1], color='blue', marker='o', label='Class 0')\n",
    "plt.scatter(class_1[:, 0], class_1[:, 1], color='red', marker='x', label='Class 1')\n",
    "\n",
    "plt.xlabel('x')\n",
    "plt.ylabel('y')\n",
    "plt.legend()\n",
    "plt.title('Samples Plot')\n",
    "plt.show()\n",
    "\n",
    "train_points = samples_array[:, :2]\n",
    "train_labels = samples_array[:, 2]"
   ]
  },
  {
   "cell_type": "code",
   "execution_count": null,
   "metadata": {},
   "outputs": [],
   "source": [
    "# loss function\n",
    "def loss(y_true, y_pred):\n",
    "    return 0.5 * np.linalg.norm(y_true - y_pred) ** 2\n",
    "\n",
    "# activation functions\n",
    "def sigmoid(x):\n",
    "    return 1 / (1 + np.exp(-x))\n",
    "\n",
    "def ReLU(x):\n",
    "    return np.maximum(0, x)"
   ]
  },
  {
   "cell_type": "code",
   "execution_count": null,
   "metadata": {},
   "outputs": [],
   "source": [
    "# define neural network\n",
    "num_input = 2 \n",
    "num_hidden = 3 \n",
    "num_output = 1\n",
    "activation = sigmoid \n",
    "learning_rate = 0.1"
   ]
  },
  {
   "cell_type": "markdown",
   "metadata": {},
   "source": [
    "Return randomized model weights $W^2, W^3$ and biases ${\\bf b}^2, {\\bf b}^3$ in the range $[0,1)$. Define these outputs as `W2`, `W3`, `b2`, and `b3`."
   ]
  },
  {
   "cell_type": "code",
   "execution_count": null,
   "metadata": {},
   "outputs": [
    {
     "name": "stdout",
     "output_type": "stream",
     "text": [
      "W2: [[0.41309675 0.48482366]\n",
      " [0.6643742  0.93509573]\n",
      " [0.08014594 0.90636683]]\n",
      "b2: [0.64206805 0.61634558 0.27245124]\n",
      "W3: [[0.40400426 0.55206189 0.47237379]]\n",
      "b3: [0.69449319]\n"
     ]
    }
   ],
   "source": [
    "def model_compile(num_input, num_hidden, num_output, activation, learning_rate):\n",
    "    W2 = np.random.rand(num_hidden, num_input)\n",
    "    W3 = np.random.rand(num_output, num_hidden)\n",
    "    b2 = np.random.rand(num_hidden)\n",
    "    b3 = np.random.rand(num_output)\n",
    "    return W2, b2, W3, b3\n",
    "\n",
    "\n",
    "W2, b2, W3, b3 = model_compile(num_input, num_hidden, num_output, activation, learning_rate)\n",
    "print(f'W2: {W2}\\nb2: {b2}\\nW3: {W3}\\nb3: {b3}')"
   ]
  },
  {
   "cell_type": "markdown",
   "metadata": {},
   "source": [
    "Forward pass: it applies the model to a point to predict its label. The function output the preactivated and activated neurons in layers 2 and 3--i.e., $\\mathbf{z}^2$, $\\mathbf{a}^2$, $\\mathbf{z}^3$, and $\\mathbf{a}^3$."
   ]
  },
  {
   "cell_type": "code",
   "execution_count": null,
   "metadata": {},
   "outputs": [
    {
     "name": "stdout",
     "output_type": "stream",
     "text": [
      "Z2: [1.20942232 1.63149775 0.91942192]\n",
      "A2: [0.77019672 0.83637471 0.7149243 ]\n",
      "Z3: [1.80509805]\n",
      "A3: [0.85876839]\n"
     ]
    }
   ],
   "source": [
    "def forward_pass(X, W2, b2, W3, b3, activation):\n",
    "    Z2 = np.dot(W2, X) + b2\n",
    "    A2 = activation(Z2)\n",
    "    Z3 = np.dot(W3, A2) + b3\n",
    "    A3 = activation(Z3)\n",
    "    return Z2, A2, Z3, A3\n",
    "\n",
    "\n",
    "Z2, A2, Z3, A3 = forward_pass(train_points[0], W2, b2, W3, b3, activation)\n",
    "print(f'Z2: {Z2}\\nA2: {A2}\\nZ3: {Z3}\\nA3: {A3}')"
   ]
  },
  {
   "cell_type": "code",
   "execution_count": null,
   "metadata": {},
   "outputs": [
    {
     "name": "stdout",
     "output_type": "stream",
     "text": [
      "[1 1 1 0 0 1]\n"
     ]
    }
   ],
   "source": [
    "def sigmoid_derivative(x):\n",
    "    deriv = sigmoid(x) * (1 - sigmoid(x))\n",
    "    return deriv\n",
    "\n",
    "def ReLU_derivative(x):\n",
    "    deriv = np.zeros_like(x)\n",
    "    for i in range(len(x)):\n",
    "        if x[i] >= 0:\n",
    "            deriv[i] = 1\n",
    "    return deriv\n",
    "\n",
    "x = np.array([1,2,3,-1,-2,0])\n",
    "print(ReLU_derivative(x))\n",
    "\n",
    "\n",
    "if activation == sigmoid:\n",
    "    activation_derivative = sigmoid_derivative\n",
    "elif activation == ReLU:\n",
    "    activation_derivative = ReLU_derivative"
   ]
  },
  {
   "cell_type": "markdown",
   "metadata": {},
   "source": [
    "Compute the gradient of the loss function with respect to the final layer"
   ]
  },
  {
   "cell_type": "code",
   "execution_count": null,
   "metadata": {},
   "outputs": [
    {
     "name": "stdout",
     "output_type": "stream",
     "text": [
      "[-0.14123161]\n"
     ]
    }
   ],
   "source": [
    "def loss_grad_final_layer(y, A3):\n",
    "    grad = A3 - y\n",
    "    return grad \n",
    "\n",
    "\n",
    "print(loss_grad_final_layer(train_labels[0], A3))"
   ]
  },
  {
   "cell_type": "markdown",
   "metadata": {},
   "source": [
    "Do the backward pass to compute the gradient vector of the loss function with respect to the model weights and biases for a **single input**"
   ]
  },
  {
   "cell_type": "code",
   "execution_count": null,
   "metadata": {},
   "outputs": [
    {
     "name": "stdout",
     "output_type": "stream",
     "text": [
      "dW2: [[-0.00073209 -0.00080957]\n",
      " [-0.0007735  -0.00085536]\n",
      " [-0.00098566 -0.00108998]]\n",
      "db2: [-0.00122485 -0.00129413 -0.0016491 ]\n",
      "dW3: [[-0.01319294 -0.01432652 -0.01224616]]\n",
      "db3: [-0.01712931]\n"
     ]
    }
   ],
   "source": [
    "def backpropagation(X, Y, W2, b2, W3, b3, activation, activation_derivative):\n",
    "    Z2, A2, Z3, A3 = forward_pass(X, W2, b2, W3, b3, activation)\n",
    "    d3 = loss_grad_final_layer(Y, A3) * activation_derivative(Z3)\n",
    "    dW3 = np.outer(d3, A2)\n",
    "    db3 = d3\n",
    "    d2 = np.dot(W3.T, d3) * activation_derivative(Z2)\n",
    "    dW2 = np.outer(d2, X)\n",
    "    db2 = d2\n",
    "    \n",
    "    return dW2, db2, dW3, db3\n",
    "\n",
    "\n",
    "dW2, db2, dW3, db3 = backpropagation(train_points[0], train_labels[0], W2, b2, W3, b3, activation, activation_derivative)\n",
    "print(f'dW2: {dW2}\\ndb2: {db2}\\ndW3: {dW3}\\ndb3: {db3}')"
   ]
  },
  {
   "cell_type": "markdown",
   "metadata": {},
   "source": [
    "Do the backward pass to compute the gradient vector of the loss function with respect to the model weights and biases for the **total loss function** (for all of our training data)"
   ]
  },
  {
   "cell_type": "code",
   "execution_count": null,
   "metadata": {},
   "outputs": [
    {
     "name": "stdout",
     "output_type": "stream",
     "text": [
      "dW2: [[0.00282001 0.00054931]\n",
      " [0.00334386 0.00062683]\n",
      " [0.00404712 0.00081915]]\n",
      "db2: [0.00348566 0.00416834 0.00501544]\n",
      "dW3: [[0.03348946 0.03548119 0.02795303]]\n",
      "db3: [0.04514462]\n"
     ]
    }
   ],
   "source": [
    "def model_gradients(X_train, Y_train, W2, b2, W3, b3, activation, activation_derivative):\n",
    "    num_data_points = len(X_train)\n",
    "    dW2 = np.zeros_like(W2)\n",
    "    db2 = np.zeros_like(b2)\n",
    "    dW3 = np.zeros_like(W3)\n",
    "    db3 = np.zeros_like(b3)\n",
    "    for point, label in zip(X_train, Y_train):\n",
    "        temp_dW2, temp_db2, temp_dW3, temp_db3 = backpropagation(point, label, W2, b2, W3, b3, activation, activation_derivative)\n",
    "        dW2 += temp_dW2\n",
    "        db2 += temp_db2\n",
    "        dW3 += temp_dW3\n",
    "        db3 += temp_db3\n",
    "    dW2 = dW2 / num_data_points\n",
    "    db2 = db2 / num_data_points\n",
    "    dW3 = dW3 / num_data_points\n",
    "    db3 = db3 / num_data_points\n",
    "\n",
    "    return dW2, db2, dW3, db3\n",
    "\n",
    "\n",
    "dW2, db2, dW3, db3 = model_gradients(train_points, train_labels, W2, b2, W3, b3, activation, activation_derivative)\n",
    "print(f'dW2: {dW2}\\ndb2: {db2}\\ndW3: {dW3}\\ndb3: {db3}')"
   ]
  },
  {
   "cell_type": "markdown",
   "metadata": {},
   "source": [
    "perform gradient descent to update your model weights"
   ]
  },
  {
   "cell_type": "code",
   "execution_count": null,
   "metadata": {},
   "outputs": [
    {
     "name": "stdout",
     "output_type": "stream",
     "text": [
      "[[0.41309675 0.48482366]\n",
      " [0.6643742  0.93509573]\n",
      " [0.08014594 0.90636683]] [0.64206805 0.61634558 0.27245124] [[0.40400426 0.55206189 0.47237379]] [0.69449319] \n",
      "\n",
      "(array([[0.41281475, 0.48476872],\n",
      "       [0.66403981, 0.93503304],\n",
      "       [0.07974123, 0.90628492]]), array([0.64171948, 0.61592874, 0.2719497 ]), array([[0.40065531, 0.54851377, 0.46957849]]), array([0.68997873]))\n"
     ]
    }
   ],
   "source": [
    "def model_update(W2, b2, W3, b3, dW2, db2, dW3, db3, learning_rate):\n",
    "    W2 = W2 - (dW2 * learning_rate)\n",
    "    b2 = b2 - (db2 * learning_rate)\n",
    "    W3 = W3 - (dW3 * learning_rate)\n",
    "    b3 = b3 - (db3 * learning_rate)\n",
    "\n",
    "    return W2, b2, W3, b3\n",
    "\n",
    "\n",
    "print(W2, b2, W3, b3, '\\n')\n",
    "print(model_update(W2, b2, W3, b3, dW2, db2, dW3, db3, learning_rate))"
   ]
  },
  {
   "cell_type": "markdown",
   "metadata": {},
   "source": [
    "print checkpoints every 500 iterations which display the number of the current iteration and current value of the loss function and accuracy of your model."
   ]
  },
  {
   "cell_type": "code",
   "execution_count": null,
   "metadata": {},
   "outputs": [
    {
     "name": "stdout",
     "output_type": "stream",
     "text": [
      "Epoch 500, Loss: 0.12425056844271287, Accuracy: 50.000000%\n"
     ]
    },
    {
     "data": {
      "text/plain": [
       "(array([[0.40899815, 0.47199655],\n",
       "        [0.62793255, 0.93639899],\n",
       "        [0.00951986, 0.92166   ]]),\n",
       " array([0.62290987, 0.58182983, 0.21972541]),\n",
       " array([[-0.12051936,  0.01549722,  0.18721361]]),\n",
       " array([-0.02304137]))"
      ]
     },
     "execution_count": 12,
     "metadata": {},
     "output_type": "execute_result"
    }
   ],
   "source": [
    "def model_train(X, Y, W2, b2, W3, b3, activation, activation_derivative, learning_rate, batch_size=32, epochs = 10, metrics=['loss', 'accuracy']):\n",
    "    num_training_points = len(X)\n",
    "    for i in range(epochs):\n",
    "        dW2, db2, dW3, db3 = model_gradients(X, Y, W2, b2, W3, b3, activation, activation_derivative)\n",
    "        W2, b2, W3, b3 = model_update(W2, b2, W3, b3, dW2, db2, dW3, db3, learning_rate)\n",
    "        if (i + 1) % 500 == 0:\n",
    "            total_loss = 0\n",
    "            num_predictions_correct = 0\n",
    "            for point, label in zip(X, Y):\n",
    "                A3 = forward_pass(point, W2, b2, W3, b3, activation)[-1]\n",
    "                prediction_loss = loss(label, A3)\n",
    "                label_prediction = np.round(A3)\n",
    "                if label_prediction == label:\n",
    "                    num_predictions_correct += 1\n",
    "                total_loss += prediction_loss\n",
    "            mean_loss = total_loss / num_training_points\n",
    "            accuracy = num_predictions_correct / num_training_points\n",
    "            print(f'Epoch {i + 1}, Loss: {mean_loss}, Accuracy: {accuracy:%}')\n",
    "\n",
    "    return W2, b2, W3, b3\n",
    "\n",
    "\n",
    "model_train(train_points, train_labels, W2, b2, W3, b3, activation, activation_derivative, learning_rate, 500)"
   ]
  },
  {
   "cell_type": "code",
   "execution_count": null,
   "metadata": {},
   "outputs": [
    {
     "name": "stdout",
     "output_type": "stream",
     "text": [
      "Epoch 500, Loss: 0.12403410131506747, Accuracy: 65.000000%\n",
      "Epoch 1000, Loss: 0.12277134297092, Accuracy: 85.000000%\n",
      "Epoch 1500, Loss: 0.12048129117914182, Accuracy: 95.000000%\n",
      "Epoch 2000, Loss: 0.11619179769750135, Accuracy: 100.000000%\n",
      "Epoch 2500, Loss: 0.1085113812221464, Accuracy: 100.000000%\n",
      "Epoch 3000, Loss: 0.09665218823015378, Accuracy: 100.000000%\n",
      "Epoch 3500, Loss: 0.08183207536923273, Accuracy: 100.000000%\n",
      "Epoch 4000, Loss: 0.06679267350697833, Accuracy: 100.000000%\n",
      "Epoch 4500, Loss: 0.053828216646160984, Accuracy: 100.000000%\n",
      "Epoch 5000, Loss: 0.043642056136121946, Accuracy: 100.000000%\n",
      "W2: [[ 0.98433172 -0.11247614]\n",
      " [-2.64653082  2.85032192]\n",
      " [ 1.4853448  -0.93219137]]\n",
      "b2: [ 0.73888995  0.2756939  -0.02145567]\n",
      "W3: [[-0.77503827  4.07276656 -1.78498958]]\n",
      "b3: [-0.24617881]\n"
     ]
    }
   ],
   "source": [
    "W2, b2, W3, b3 = model_compile(num_input, num_hidden, num_output, activation, learning_rate)\n",
    "\n",
    "\n",
    "W2, b2, W3, b3 = model_train(train_points, train_labels, W2, b2, W3, b3, activation, activation_derivative, learning_rate, 5000)\n",
    "\n",
    "print(f'W2: {W2}\\nb2: {b2}\\nW3: {W3}\\nb3: {b3}')"
   ]
  }
 ],
 "metadata": {
  "kernelspec": {
   "display_name": "Python 3",
   "language": "python",
   "name": "python3"
  },
  "language_info": {
   "codemirror_mode": {
    "name": "ipython",
    "version": 3
   },
   "file_extension": ".py",
   "mimetype": "text/x-python",
   "name": "python",
   "nbconvert_exporter": "python",
   "pygments_lexer": "ipython3",
   "version": "3.11.7"
  }
 },
 "nbformat": 4,
 "nbformat_minor": 2
}
